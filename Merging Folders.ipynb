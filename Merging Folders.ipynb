{
 "cells": [
  {
   "cell_type": "markdown",
   "id": "2efb18ce-e9b9-4efd-b038-9509ae9637a9",
   "metadata": {},
   "source": [
    "# The copy functionality in Mac sucks when there are more than 2 levels of depth in the directory structure. This program is to just merge two directories/sub-directories without replacing the source with the destination. "
   ]
  },
  {
   "cell_type": "code",
   "execution_count": null,
   "id": "2fae5c12-66b5-4191-b5fc-1494352b9754",
   "metadata": {},
   "outputs": [],
   "source": [
    "import os\n",
    "import shutil\n",
    "import datetime"
   ]
  },
  {
   "cell_type": "code",
   "execution_count": null,
   "id": "452344a5-425d-41dd-97a4-a5bbd7cab929",
   "metadata": {},
   "outputs": [],
   "source": [
    "def print_log(log_file_path, *args, **kwargs):\n",
    "    \"\"\"\n",
    "    Prints a message to the console and logs it to a file.\n",
    "    \n",
    "    Args:\n",
    "    log_file_path (str): The path to the log file.\n",
    "    *args: The arguments to be printed and logged.\n",
    "    **kwargs: The keyword arguments to be printed and logged.\n",
    "    \"\"\"\n",
    "    \n",
    "    # Construct the log message\n",
    "    log_message = \"\"\n",
    "    for arg in args:\n",
    "        log_message += f\"{arg} \"\n",
    "    for key, value in kwargs.items():\n",
    "        log_message += f\"{key}={value} \"\n",
    "\n",
    "    # Print the message to the console\n",
    "    print(log_message)\n",
    "\n",
    "    # Write the message to the log file\n",
    "    with open(log_file_path, \"a\") as log_file:\n",
    "        log_file.write(log_message + \"\\n\")"
   ]
  },
  {
   "cell_type": "code",
   "execution_count": null,
   "id": "0643d06c-d658-495c-ae8b-dc2204fe23db",
   "metadata": {},
   "outputs": [],
   "source": [
    "def move_to_directory(src_path, dst_path, log_filename):\n",
    "    # Ensure the destination directory exists\n",
    "    os.makedirs(os.path.dirname(dst_path), exist_ok=True)\n",
    "    \n",
    "    # If the destination path already exists, move to duplicate directory\n",
    "    if os.path.exists(dst_path):\n",
    "        duplicate_path = dst_path.replace('merged', 'duplicate')\n",
    "        os.makedirs(os.path.dirname(duplicate_path), exist_ok=True)\n",
    "        \n",
    "        print_log(log_filename,'\\n-----------\\DUPLICATE\\n\\tSRC:',src_path,'\\n\\tDEST',duplicate_path)\n",
    "        shutil.move(src_path, duplicate_path)\n",
    "    else:\n",
    "        print_log(log_filename,'\\n-----------\\nORIGINAL\\n\\tSRC:',src_path,'\\n\\tDEST',dst_path)\n",
    "        shutil.move(src_path, dst_path)\n",
    "\n",
    "def merge_directories(original_dir, merged_dir, relative_path, log_filename):\n",
    "    for item in os.listdir(original_dir):\n",
    "        if not item.startswith('.'):\n",
    "            src_path = os.path.join(original_dir, item)\n",
    "            dst_path = os.path.join(merged_dir, relative_path, item)\n",
    "    \n",
    "            # print('\\tSRC:',src_path, '\\n\\tDEST:',dst_path)\n",
    "    \n",
    "            if os.path.isdir(src_path):\n",
    "                # If it's a directory, recursively process it\n",
    "                merge_directories(src_path, merged_dir, os.path.join(relative_path, item), log_filename)\n",
    "            else:\n",
    "                # If it's a file, move it to the corresponding location in the merged directory\n",
    "                move_to_directory(src_path, dst_path, log_filename)"
   ]
  },
  {
   "cell_type": "code",
   "execution_count": null,
   "id": "0d480a99-5de2-4dd6-866a-7bd035aa21a6",
   "metadata": {},
   "outputs": [],
   "source": [
    "if __name__ == \"__main__\":\n",
    "    \n",
    "    timestamp = datetime.datetime.now().strftime(\"%Y-%m-%d_%H-%M-%S\")\n",
    "    log_filename = f\"/Users/talat/logs/log_{timestamp}.txt\"\n",
    "    \n",
    "    base_dir = \"\"\n",
    "    src_parent_dir = os.path.join(base_dir, \"original/\")\n",
    "    merged_dir = os.path.join(base_dir, \"merged/\")\n",
    "    duplicate_dir = os.path.join(base_dir, \"duplicate/\")\n",
    "\n",
    "    for item in os.listdir(src_parent_dir):\n",
    "        src_dir = os.path.join(src_parent_dir, item)\n",
    "        print(src_dir)\n",
    "        if os.path.isdir(src_dir):\n",
    "            \n",
    "            print('SRC:',src_dir, '\\nDEST:',merged_dir)\n",
    "            merge_directories(src_dir, merged_dir, '', log_filename)"
   ]
  },
  {
   "cell_type": "code",
   "execution_count": null,
   "id": "ceae4a34-8672-4176-a35b-8c456c14c499",
   "metadata": {},
   "outputs": [],
   "source": []
  }
 ],
 "metadata": {
  "kernelspec": {
   "display_name": "dir_merge",
   "language": "python",
   "name": "dir_merge"
  },
  "language_info": {
   "codemirror_mode": {
    "name": "ipython",
    "version": 3
   },
   "file_extension": ".py",
   "mimetype": "text/x-python",
   "name": "python",
   "nbconvert_exporter": "python",
   "pygments_lexer": "ipython3",
   "version": "3.9.19"
  }
 },
 "nbformat": 4,
 "nbformat_minor": 5
}
